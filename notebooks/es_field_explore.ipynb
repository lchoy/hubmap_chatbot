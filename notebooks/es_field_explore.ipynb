{
 "cells": [
  {
   "cell_type": "code",
   "execution_count": null,
   "metadata": {},
   "outputs": [],
   "source": [
    "\n",
    "import logging\n",
    "import sys\n",
    "\n",
    "from hubmap_sdk import SearchSdk\n",
    "import json\n",
    "from collections import defaultdict\n",
    "import random\n",
    "import pathlib\n",
    "\n",
    "from pathlib import Path\n",
    "\n",
    "from git import Repo\n",
    "from langchain.document_loaders import GitLoader, DirectoryLoader\n",
    "from langchain.docstore.document import Document\n",
    "import requests\n",
    "from langchain.embeddings import OpenAIEmbeddings, FakeEmbeddings\n",
    "from langchain.text_splitter import CharacterTextSplitter, RecursiveCharacterTextSplitter\n",
    "from langchain.vectorstores import Chroma\n",
    "from langchain.document_loaders import TextLoader\n",
    "from langchain.callbacks import get_openai_callback\n",
    "from joblib import Parallel, delayed\n",
    "import json\n",
    "import tiktoken\n",
    "\n",
    "from enum import Enum\n",
    "\n",
    "from hubmapbot.data_loader_es_field import *"
   ]
  },
  {
   "cell_type": "code",
   "execution_count": null,
   "metadata": {},
   "outputs": [],
   "source": [
    "search_result = SEARCHSDK_INSTANCE.search_by_index(get_search_template(entity_type), \"portal\")\n"
   ]
  }
 ],
 "metadata": {
  "language_info": {
   "name": "python"
  },
  "orig_nbformat": 4
 },
 "nbformat": 4,
 "nbformat_minor": 2
}
